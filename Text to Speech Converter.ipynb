{
 "cells": [
  {
   "cell_type": "code",
   "execution_count": 1,
   "id": "d891a0d1",
   "metadata": {},
   "outputs": [],
   "source": [
    "import tkinter as tk\n",
    "from tkinter import *\n",
    "from tkinter import filedialog\n",
    "from tkinter.ttk import Combobox\n",
    "import pyttsx3\n",
    "import os\n",
    "from gtts import gTTS\n",
    "from playsound import playsound\n"
   ]
  },
  {
   "cell_type": "code",
   "execution_count": 2,
   "id": "18f2f2a3",
   "metadata": {},
   "outputs": [],
   "source": [
    "root = Tk()\n",
    "root.title(\"Text to Speech Converter\")\n",
    "root.geometry(\"1000x580+200+80\")\n",
    "root.resizable(False, False)\n",
    "root.configure(bg=\"#F7AC40\")"
   ]
  },
  {
   "cell_type": "code",
   "execution_count": 3,
   "id": "028354c5",
   "metadata": {},
   "outputs": [],
   "source": [
    "tts = pyttsx3.init()\n",
    "def speaknow():\n",
    "    text = text_box.get(1.0,END)\n",
    "    gender = gender_box.get()\n",
    "    speed =speed_box.get()\n",
    "    voices= tts.getProperty('voices')\n",
    "    def setvoice():\n",
    "        if(gender == 'Male'):\n",
    "            tts.setProperty('voice',voices[0].id)\n",
    "            tts.say(text)\n",
    "            tts.runAndWait()\n",
    "        else:\n",
    "            tts.setProperty('voice',voices[1].id)\n",
    "            tts.say(text)\n",
    "            tts.runAndWait()\n",
    "    if(text):\n",
    "        if(speed == 'Fast'):\n",
    "            tts.setProperty('rate',250)\n",
    "            setvoice()\n",
    "        elif(speed=='Medium'):\n",
    "            tts.setProperty('rate',150)\n",
    "            setvoice()\n",
    "        else:\n",
    "            tts.setProperty('rate',60)\n",
    "            setvoice()\n",
    "            \n",
    "            "
   ]
  },
  {
   "cell_type": "code",
   "execution_count": 4,
   "id": "55727ccb",
   "metadata": {},
   "outputs": [],
   "source": [
    "logo_image = PhotoImage(file = r\"C:\\Users\\HP\\Desktop\\Text to Speech\\t s.png\")\n",
    "\n",
    "root.iconphoto (False, logo_image) \n",
    "#root.mainloop()"
   ]
  },
  {
   "cell_type": "code",
   "execution_count": 5,
   "id": "902446d5",
   "metadata": {},
   "outputs": [],
   "source": [
    "upper_frame = Frame (root, bg=\"#14A7DD\", width= 1200, height = 130)\n",
    "\n",
    "upper_frame.place(x=0, y=0)\n",
    "desired_width = 175\n",
    "desired_height = 130\n",
    "\n",
    "picture = PhotoImage(file =  r\"C:\\Users\\HP\\Desktop\\Text to Speech\\t s.png\")\n",
    "resized_image = picture.subsample(picture.width() // desired_width, picture.height() // desired_height)\n",
    "\n",
    "label = Label(upper_frame, image=resized_image, bg=\"#14A7DD\")\n",
    "label.place(x=90, y=0)\n",
    "\n",
    "#root.mainloop()"
   ]
  },
  {
   "cell_type": "code",
   "execution_count": 6,
   "id": "5a51bef5",
   "metadata": {},
   "outputs": [],
   "source": [
    "text_label = Label(upper_frame, text=\"Text to Speech Converter\", font=\"Timesnewroman 40 bold\", bg=\"#14A7DD\", fg=\"white\")\n",
    "text_label.place(x=250, y=30)\n",
    "#root.mainloop()"
   ]
  },
  {
   "cell_type": "code",
   "execution_count": 7,
   "id": "51a6105c",
   "metadata": {},
   "outputs": [],
   "source": [
    "text_box = Text(root,font=\"calibri 20\", bg=\"white\",relief = GROOVE, wrap= WORD ,bd=0)\n",
    "text_box.place(x=30,y=150,width=940,height=180)\n",
    "#root.mainloop()"
   ]
  },
  {
   "cell_type": "code",
   "execution_count": 8,
   "id": "24c9d759",
   "metadata": {},
   "outputs": [],
   "source": [
    "gender_box = Combobox(root,values=['Male','Female'], font = \"Robot 12\", state = 'r',width =12)\n",
    "gender_box.place(x=340,y=400)\n",
    "gender_box.set('Female')\n",
    "#root.mainloop()"
   ]
  },
  {
   "cell_type": "code",
   "execution_count": 9,
   "id": "9ed2c96d",
   "metadata": {},
   "outputs": [],
   "source": [
    "speed_box = Combobox(root,values=['Medium','Fast','Slow'], font = \"Robot 12\", state = 'r',width =12)\n",
    "speed_box.place(x=540,y=400)\n",
    "speed_box.set('Medium')\n",
    "#root.mainloop()"
   ]
  },
  {
   "cell_type": "code",
   "execution_count": 10,
   "id": "38fa18df",
   "metadata": {},
   "outputs": [],
   "source": [
    "Label(root,text=\"Select Voice\",font=\"Timesnewroman 15 bold\",bg=\"#F7AC40\",fg=\"White\").place(x=340,y=370)\n",
    "Label(root,text=\"Select Speed\",font=\"Timesnewroman 15 bold\",bg=\"#F7AC40\",fg=\"White\").place(x=540,y=370)\n",
    "#root.mainloop()"
   ]
  },
  {
   "cell_type": "code",
   "execution_count": 11,
   "id": "9f69d884",
   "metadata": {},
   "outputs": [],
   "source": [
    "play_button= PhotoImage(file =  r\"C:\\Users\\HP\\Desktop\\Text to Speech\\p;ay.png\")\n",
    "play_btn = Button(root,text=\"Play\",compound= LEFT, image=play_button,bg='white',width=200,font=\"arial 14 bold\", borderwidth='0.1c',command= speaknow)\n",
    "play_btn.place(x=435, y=450)\n",
    "desired_width = 111\n",
    "\n",
    "# Calculate the resizing factor based on the desired width\n",
    "resized_image = play_button.subsample(play_button.width() // desired_width)\n",
    "\n",
    "# Update the image of the button with the resized image\n",
    "play_btn.configure(image=resized_image)\n",
    "\n",
    "# Place the play button at the center of the root window\n",
    "\n",
    "\n",
    "root.mainloop()\n"
   ]
  }
 ],
 "metadata": {
  "kernelspec": {
   "display_name": "Python 3 (ipykernel)",
   "language": "python",
   "name": "python3"
  },
  "language_info": {
   "codemirror_mode": {
    "name": "ipython",
    "version": 3
   },
   "file_extension": ".py",
   "mimetype": "text/x-python",
   "name": "python",
   "nbconvert_exporter": "python",
   "pygments_lexer": "ipython3",
   "version": "3.10.6"
  }
 },
 "nbformat": 4,
 "nbformat_minor": 5
}
